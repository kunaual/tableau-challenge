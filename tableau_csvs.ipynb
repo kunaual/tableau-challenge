{
 "cells": [
  {
   "cell_type": "code",
   "execution_count": 1,
   "metadata": {},
   "outputs": [],
   "source": [
    "import pandas as pd"
   ]
  },
  {
   "cell_type": "code",
   "execution_count": 2,
   "metadata": {},
   "outputs": [
    {
     "data": {
      "text/plain": [
       "Index(['tripduration', 'starttime', 'stoptime', 'start station id',\n",
       "       'start station name', 'start station latitude',\n",
       "       'start station longitude', 'end station id', 'end station name',\n",
       "       'end station latitude', 'end station longitude', 'bikeid', 'usertype',\n",
       "       'birth year', 'gender'],\n",
       "      dtype='object')"
      ]
     },
     "execution_count": 2,
     "metadata": {},
     "output_type": "execute_result"
    }
   ],
   "source": [
    "apr2017_file = 'Resources/201704-citibike-tripdata.csv'\n",
    "apr2017_df = pd.read_csv(apr2017_file)\n",
    "apr2017_df.columns"
   ]
  },
  {
   "cell_type": "code",
   "execution_count": 3,
   "metadata": {},
   "outputs": [],
   "source": [
    "apr2017_df['starttime'] = pd.to_datetime(apr2017_df['starttime']).dt.date"
   ]
  },
  {
   "cell_type": "code",
   "execution_count": 4,
   "metadata": {},
   "outputs": [
    {
     "data": {
      "text/plain": [
       "(1315404, 10)"
      ]
     },
     "execution_count": 4,
     "metadata": {},
     "output_type": "execute_result"
    }
   ],
   "source": [
    "keep2017_df = apr2017_df[['starttime','start station id',\n",
    "       'start station name', 'start station latitude',\n",
    "       'start station longitude', 'end station id', 'end station name',\n",
    "       'end station latitude', 'end station longitude', 'usertype']]\n",
    "keep2017_df.shape"
   ]
  },
  {
   "cell_type": "code",
   "execution_count": 5,
   "metadata": {
    "scrolled": true
   },
   "outputs": [
    {
     "data": {
      "text/plain": [
       "Index(['tripduration', 'starttime', 'stoptime', 'start station id',\n",
       "       'start station name', 'start station latitude',\n",
       "       'start station longitude', 'end station id', 'end station name',\n",
       "       'end station latitude', 'end station longitude', 'bikeid', 'usertype',\n",
       "       'birth year', 'gender'],\n",
       "      dtype='object')"
      ]
     },
     "execution_count": 5,
     "metadata": {},
     "output_type": "execute_result"
    }
   ],
   "source": [
    "apr2018_file = 'Resources/JC-201804-citibike-tripdata.csv'\n",
    "apr2018_df = pd.read_csv(apr2018_file)\n",
    "apr2018_df.columns"
   ]
  },
  {
   "cell_type": "code",
   "execution_count": 6,
   "metadata": {},
   "outputs": [],
   "source": [
    "apr2018_df['starttime'] = pd.to_datetime(apr2018_df['starttime']).dt.date"
   ]
  },
  {
   "cell_type": "code",
   "execution_count": 7,
   "metadata": {},
   "outputs": [
    {
     "data": {
      "text/plain": [
       "(23634, 10)"
      ]
     },
     "execution_count": 7,
     "metadata": {},
     "output_type": "execute_result"
    }
   ],
   "source": [
    "keep2018_df = apr2018_df[['starttime','start station id',\n",
    "       'start station name', 'start station latitude',\n",
    "       'start station longitude', 'end station id', 'end station name',\n",
    "       'end station latitude', 'end station longitude', 'usertype']]\n",
    "keep2018_df.shape"
   ]
  },
  {
   "cell_type": "code",
   "execution_count": null,
   "metadata": {},
   "outputs": [],
   "source": []
  },
  {
   "cell_type": "code",
   "execution_count": 8,
   "metadata": {},
   "outputs": [
    {
     "data": {
      "text/plain": [
       "Index(['tripduration', 'starttime', 'stoptime', 'start station id',\n",
       "       'start station name', 'start station latitude',\n",
       "       'start station longitude', 'end station id', 'end station name',\n",
       "       'end station latitude', 'end station longitude', 'bikeid', 'usertype',\n",
       "       'birth year', 'gender'],\n",
       "      dtype='object')"
      ]
     },
     "execution_count": 8,
     "metadata": {},
     "output_type": "execute_result"
    }
   ],
   "source": [
    "apr2019_file = 'Resources/JC-201904-citibike-tripdata.csv'\n",
    "apr2019_df = pd.read_csv(apr2019_file)\n",
    "apr2019_df.columns"
   ]
  },
  {
   "cell_type": "code",
   "execution_count": 9,
   "metadata": {},
   "outputs": [],
   "source": [
    "apr2019_df['starttime'] = pd.to_datetime(apr2019_df['starttime']).dt.date"
   ]
  },
  {
   "cell_type": "code",
   "execution_count": 10,
   "metadata": {},
   "outputs": [],
   "source": [
    "keep2019_df = apr2019_df[['starttime','start station id',\n",
    "       'start station name', 'start station latitude',\n",
    "       'start station longitude', 'end station id', 'end station name',\n",
    "       'end station latitude', 'end station longitude', 'usertype']]"
   ]
  },
  {
   "cell_type": "code",
   "execution_count": 11,
   "metadata": {},
   "outputs": [],
   "source": [
    "#keep2019_df"
   ]
  },
  {
   "cell_type": "code",
   "execution_count": 12,
   "metadata": {},
   "outputs": [
    {
     "data": {
      "text/plain": [
       "Index(['tripduration', 'starttime', 'stoptime', 'start station id',\n",
       "       'start station name', 'start station latitude',\n",
       "       'start station longitude', 'end station id', 'end station name',\n",
       "       'end station latitude', 'end station longitude', 'bikeid', 'usertype',\n",
       "       'birth year', 'gender'],\n",
       "      dtype='object')"
      ]
     },
     "execution_count": 12,
     "metadata": {},
     "output_type": "execute_result"
    }
   ],
   "source": [
    "apr2020_file = 'Resources/JC-202004-citibike-tripdata.csv'\n",
    "apr2020_df = pd.read_csv(apr2020_file)\n",
    "apr2020_df.columns"
   ]
  },
  {
   "cell_type": "code",
   "execution_count": 13,
   "metadata": {},
   "outputs": [],
   "source": [
    "apr2020_df['starttime'] = pd.to_datetime(apr2020_df['starttime']).dt.date\n"
   ]
  },
  {
   "cell_type": "code",
   "execution_count": 14,
   "metadata": {},
   "outputs": [],
   "source": [
    "keep2020_df = apr2020_df[['starttime','start station id',\n",
    "       'start station name', 'start station latitude',\n",
    "       'start station longitude', 'end station id', 'end station name',\n",
    "       'end station latitude', 'end station longitude', 'usertype']]"
   ]
  },
  {
   "cell_type": "code",
   "execution_count": 15,
   "metadata": {},
   "outputs": [
    {
     "data": {
      "text/plain": [
       "Index(['tripduration', 'starttime', 'stoptime', 'start station id',\n",
       "       'start station name', 'start station latitude',\n",
       "       'start station longitude', 'end station id', 'end station name',\n",
       "       'end station latitude', 'end station longitude', 'bikeid', 'usertype',\n",
       "       'birth year', 'gender'],\n",
       "      dtype='object')"
      ]
     },
     "execution_count": 15,
     "metadata": {},
     "output_type": "execute_result"
    }
   ],
   "source": [
    "apr2021_file = 'Resources/JC-202104-citibike-tripdata.csv'\n",
    "apr2021_df = pd.read_csv(apr2021_file)\n",
    "apr2021_df.columns"
   ]
  },
  {
   "cell_type": "code",
   "execution_count": 16,
   "metadata": {},
   "outputs": [],
   "source": [
    "apr2021_df['starttime'] = pd.to_datetime(apr2021_df['starttime']).dt.date"
   ]
  },
  {
   "cell_type": "code",
   "execution_count": 17,
   "metadata": {},
   "outputs": [],
   "source": [
    "keep2021_df = apr2021_df[['starttime','start station id',\n",
    "       'start station name', 'start station latitude',\n",
    "       'start station longitude', 'end station id', 'end station name',\n",
    "       'end station latitude', 'end station longitude', 'usertype']]\n"
   ]
  },
  {
   "cell_type": "code",
   "execution_count": 18,
   "metadata": {},
   "outputs": [
    {
     "name": "stderr",
     "output_type": "stream",
     "text": [
      "C:\\Users\\kunaual\\anaconda3\\envs\\PythonData\\lib\\site-packages\\ipykernel_launcher.py:2: SettingWithCopyWarning: \n",
      "A value is trying to be set on a copy of a slice from a DataFrame.\n",
      "Try using .loc[row_indexer,col_indexer] = value instead\n",
      "\n",
      "See the caveats in the documentation: https://pandas.pydata.org/pandas-docs/stable/user_guide/indexing.html#returning-a-view-versus-a-copy\n",
      "  \n",
      "C:\\Users\\kunaual\\anaconda3\\envs\\PythonData\\lib\\site-packages\\ipykernel_launcher.py:3: SettingWithCopyWarning: \n",
      "A value is trying to be set on a copy of a slice from a DataFrame.\n",
      "Try using .loc[row_indexer,col_indexer] = value instead\n",
      "\n",
      "See the caveats in the documentation: https://pandas.pydata.org/pandas-docs/stable/user_guide/indexing.html#returning-a-view-versus-a-copy\n",
      "  This is separate from the ipykernel package so we can avoid doing imports until\n",
      "C:\\Users\\kunaual\\anaconda3\\envs\\PythonData\\lib\\site-packages\\ipykernel_launcher.py:4: SettingWithCopyWarning: \n",
      "A value is trying to be set on a copy of a slice from a DataFrame.\n",
      "Try using .loc[row_indexer,col_indexer] = value instead\n",
      "\n",
      "See the caveats in the documentation: https://pandas.pydata.org/pandas-docs/stable/user_guide/indexing.html#returning-a-view-versus-a-copy\n",
      "  after removing the cwd from sys.path.\n",
      "C:\\Users\\kunaual\\anaconda3\\envs\\PythonData\\lib\\site-packages\\ipykernel_launcher.py:5: SettingWithCopyWarning: \n",
      "A value is trying to be set on a copy of a slice from a DataFrame.\n",
      "Try using .loc[row_indexer,col_indexer] = value instead\n",
      "\n",
      "See the caveats in the documentation: https://pandas.pydata.org/pandas-docs/stable/user_guide/indexing.html#returning-a-view-versus-a-copy\n",
      "  \"\"\"\n",
      "C:\\Users\\kunaual\\anaconda3\\envs\\PythonData\\lib\\site-packages\\ipykernel_launcher.py:6: SettingWithCopyWarning: \n",
      "A value is trying to be set on a copy of a slice from a DataFrame.\n",
      "Try using .loc[row_indexer,col_indexer] = value instead\n",
      "\n",
      "See the caveats in the documentation: https://pandas.pydata.org/pandas-docs/stable/user_guide/indexing.html#returning-a-view-versus-a-copy\n",
      "  \n"
     ]
    }
   ],
   "source": [
    "#add year column to everything\n",
    "keep2021_df['year']  = 2021;\n",
    "keep2020_df['year']  = 2020;\n",
    "keep2019_df['year']  = 2019;\n",
    "keep2018_df['year']  = 2018;\n",
    "keep2017_df['year']  = 2017;"
   ]
  },
  {
   "cell_type": "code",
   "execution_count": 22,
   "metadata": {},
   "outputs": [],
   "source": [
    "#make one huge DF for all years\n",
    "#taking out 2017 to keep the amount of data something that will process quickly using free tableau + because it's all data, not limited to jersey city like the other data\n",
    "allyears_df = pd.concat([keep2018_df,keep2019_df,keep2020_df,keep2021_df])"
   ]
  },
  {
   "cell_type": "code",
   "execution_count": 23,
   "metadata": {},
   "outputs": [
    {
     "data": {
      "text/plain": [
       "(89276, 11)"
      ]
     },
     "execution_count": 23,
     "metadata": {},
     "output_type": "execute_result"
    }
   ],
   "source": [
    "allyears_df.shape\n",
    "# apr2018_df['starttime']\n",
    "#allyears_df.rename(columns = {\"starttime\":\"tripdate\"})"
   ]
  },
  {
   "cell_type": "code",
   "execution_count": 24,
   "metadata": {},
   "outputs": [],
   "source": [
    "allyears_df.to_csv('Resources/citibike_4Aprils.csv', index=False)"
   ]
  },
  {
   "cell_type": "code",
   "execution_count": 19,
   "metadata": {},
   "outputs": [
    {
     "data": {
      "text/plain": [
       "(23634, 11)"
      ]
     },
     "execution_count": 19,
     "metadata": {},
     "output_type": "execute_result"
    }
   ],
   "source": [
    "keep2018_df.shape"
   ]
  },
  {
   "cell_type": "markdown",
   "metadata": {},
   "source": [
    "How many trips have been recorded total during the chosen period?\n",
    "How has the proportion of short-term customers and annual subscribers changed?"
   ]
  },
  {
   "cell_type": "markdown",
   "metadata": {},
   "source": [
    "Today, what are the top 10 stations in the city for starting a journey? (Based on data, why do you hypothesize these are the top locations?)\n",
    "Today, what are the top 10 stations in the city for ending a journey? (Based on data, why?)"
   ]
  },
  {
   "cell_type": "markdown",
   "metadata": {},
   "source": [
    "User Type (Customer = 24-hour pass or 3-day pass user; Subscriber = Annual Member)"
   ]
  },
  {
   "cell_type": "code",
   "execution_count": 1,
   "metadata": {},
   "outputs": [],
   "source": [
    "import pandas as pd\n",
    "import numpy as np\n",
    "import requests\n",
    "import gmaps\n",
    "import os\n",
    "import json\n",
    "\n",
    "# Import API key\n",
    "from config import gkey\n",
    "# config gmaps\n",
    "gmaps.configure(api_key=gkey)"
   ]
  },
  {
   "cell_type": "code",
   "execution_count": 2,
   "metadata": {},
   "outputs": [],
   "source": [
    "params = {\"keyword\":\"hospital\",\n",
    "          \"radius\": 5000,\n",
    "          \"type\": \"hospital\",\n",
    "          \"key\": gkey    \n",
    "}\n",
    "\n",
    "base_url = \"https://maps.googleapis.com/maps/api/place/nearbysearch/json\""
   ]
  },
  {
   "cell_type": "code",
   "execution_count": 3,
   "metadata": {},
   "outputs": [
    {
     "name": "stdout",
     "output_type": "stream",
     "text": [
      "{'html_attributions': [], 'next_page_token': 'ATtYBwLd8yKwBwqj08FCvneW09KKC-dNEaYDoO1YA7Bwz8g3M1uG-jvYG4ImFGFcBjlI9W8q1tW6R3YMErESGDK6tZHJZnQAy3v3AAKIlhaUTU_s_qBOkypgL4u_P8zuvhMOB8h_rWspsgTWs1cmQi-Il_mN97TgzMJQqJu-iE06j_dxJYaj2WvPosWtkgMBX500zBozvXNXR1CJRtyiZgj7BEmlfn5eK-AjIIf02PaU6HhEsP680udagYHDbcUVygWmtI_K5FCyt7hlYGyLOx8gU5tzNkpyecJy8zyRIvkg_9EM1Q_6sybTp30nnkgntWfrklY22D0zNwvvJ2Uh-9xn-oYxKxGISFeAK7zRvmtYChJPR4KW-wiXJfuPIFvn7G18AgN0AI66y43cBscPLl3xKAU_4YdhSFpaZpT3QWT97T3u1srOm3t_3J-iKTCD8afDQrS-Tt8', 'results': [{'business_status': 'OPERATIONAL', 'geometry': {'location': {'lat': 40.7129914, 'lng': -73.98770329999999}, 'viewport': {'northeast': {'lat': 40.71448482989272, 'lng': -73.98616777010727}, 'southwest': {'lat': 40.71178517010728, 'lng': -73.98886742989272}}}, 'icon': 'https://maps.gstatic.com/mapfiles/place_api/icons/v1/png_71/hospital-71.png', 'name': 'NYC Health + Hospitals/Gotham Health, Gouverneur', 'opening_hours': {'open_now': False}, 'photos': [{'height': 4480, 'html_attributions': ['<a href=\"https://maps.google.com/maps/contrib/105967142886741150105\">Gouverneur Health</a>'], 'photo_reference': 'ATtYBwKI-ZTfnzIJtYFl5GPZeTujj6N5y9yE3v0JvE24IOYzx77aMO9bqwuCqRQJd2X0LAjC5v21rgA7XcNK_aui0DnB2wb_5WJGEuWqGsYRBemvKeDs4152wWC9s2lcM5izUP-xfEAcReYFsYKMWnzpMJGI_kHtxBbjekj785pO8VOHCp0a', 'width': 6720}], 'place_id': 'ChIJFb1OxitawokR2Wfi0loJ9ew', 'plus_code': {'compound_code': 'P276+5W Manhattan, New York, NY', 'global_code': '87G8P276+5W'}, 'rating': 3.9, 'reference': 'ChIJFb1OxitawokR2Wfi0loJ9ew', 'scope': 'GOOGLE', 'types': ['pharmacy', 'hospital', 'doctor', 'health', 'point_of_interest', 'store', 'establishment'], 'user_ratings_total': 204, 'vicinity': '227 Madison St, Manhattan'}, {'business_status': 'OPERATIONAL', 'geometry': {'location': {'lat': 40.732716, 'lng': -73.9969327}, 'viewport': {'northeast': {'lat': 40.73397762989271, 'lng': -73.99564907010729}, 'southwest': {'lat': 40.73127797010727, 'lng': -73.99834872989273}}}, 'icon': 'https://maps.gstatic.com/mapfiles/place_api/icons/v1/png_71/hospital-71.png', 'name': 'Mount sinai', 'place_id': 'ChIJ2cQ5rU1ZwokRAkDNJzG9zig', 'plus_code': {'compound_code': 'P2M3+36 New York', 'global_code': '87G8P2M3+36'}, 'rating': 0, 'reference': 'ChIJ2cQ5rU1ZwokRAkDNJzG9zig', 'scope': 'GOOGLE', 'types': ['hospital', 'health', 'point_of_interest', 'establishment'], 'user_ratings_total': 0, 'vicinity': '7 W 8th St, New York'}, {'business_status': 'OPERATIONAL', 'geometry': {'location': {'lat': 40.7333501, 'lng': -73.9825649}, 'viewport': {'northeast': {'lat': 40.73439477989272, 'lng': -73.98092519999999}, 'southwest': {'lat': 40.73169512010728, 'lng': -73.9841656}}}, 'icon': 'https://maps.gstatic.com/mapfiles/place_api/icons/v1/png_71/hospital-71.png', 'name': 'Mount Sinai Beth Israel', 'opening_hours': {'open_now': True}, 'photos': [{'height': 3605, 'html_attributions': ['<a href=\"https://maps.google.com/maps/contrib/112983165326221310516\">ze yar</a>'], 'photo_reference': 'ATtYBwLT3gLcIDRE1oxAC4vOu9MqOxlspsjAcwdouLkkcD1dawd70tom73wZXzLwNCUUBSU8KuHsysBNCCJvzUqSHWNz8iVn3clevlCXtm77YF3aOLC7rzOqM2zyr4QyoWo5Ng-olibnWO4NyS07ga1VNBibdu6iKLjX295BuebupeK0qdeY', 'width': 3282}], 'place_id': 'ChIJv3R4pZ9ZwokRjOjDyckXenQ', 'plus_code': {'compound_code': 'P2M8+8X New York', 'global_code': '87G8P2M8+8X'}, 'rating': 3.5, 'reference': 'ChIJv3R4pZ9ZwokRjOjDyckXenQ', 'scope': 'GOOGLE', 'types': ['hospital', 'health', 'point_of_interest', 'establishment'], 'user_ratings_total': 325, 'vicinity': '281 1st Avenue, New York'}, {'business_status': 'OPERATIONAL', 'geometry': {'location': {'lat': 40.734307, 'lng': -74.049665}, 'viewport': {'northeast': {'lat': 40.73550992989272, 'lng': -74.04864197010727}, 'southwest': {'lat': 40.73281027010728, 'lng': -74.05134162989272}}}, 'icon': 'https://maps.gstatic.com/mapfiles/place_api/icons/v1/png_71/hospital-71.png', 'name': 'Christ Hospital, Jersey City, NJ', 'opening_hours': {'open_now': True}, 'photos': [{'height': 1205, 'html_attributions': ['<a href=\"https://maps.google.com/maps/contrib/101371630918349546773\">Paul Hebert</a>'], 'photo_reference': 'ATtYBwIWBKkzYmODMSG0adNxLUIAf99LwWv0uf7-6sbwgtgAf-OSHoRcU_6XsgqhOeiIKGr8PKf4vQp1dPjEo3pczForNjWJU5AbR_SZ7gbqT8dYqUNZadXjugpMoWFLd8rQPf-qfoew5Xdd5NhjjWp4skBU9aLcBOTNccReKRlDMO9Wtc2o', 'width': 1800}], 'place_id': 'ChIJ27iHmkhXwokRQDMFaWXvmNY', 'plus_code': {'compound_code': 'PXM2+P4 Jersey City, New Jersey', 'global_code': '87G7PXM2+P4'}, 'rating': 2.5, 'reference': 'ChIJ27iHmkhXwokRQDMFaWXvmNY', 'scope': 'GOOGLE', 'types': ['hospital', 'health', 'point_of_interest', 'establishment'], 'user_ratings_total': 264, 'vicinity': '176 Palisade Ave, Jersey City'}, {'business_status': 'OPERATIONAL', 'geometry': {'location': {'lat': 40.7374641, 'lng': -74.0008581}, 'viewport': {'northeast': {'lat': 40.73913242989272, 'lng': -73.99945217010729}, 'southwest': {'lat': 40.73643277010728, 'lng': -74.00215182989272}}}, 'icon': 'https://maps.gstatic.com/mapfiles/place_api/icons/v1/png_71/hospital-71.png', 'name': \"Saint Vincent's Catholic Medical Center\", 'photos': [{'height': 3024, 'html_attributions': ['<a href=\"https://maps.google.com/maps/contrib/112025525505519192397\">Chopin NYC</a>'], 'photo_reference': 'ATtYBwJhKs20dv21TBrbeYgyl654wvYWzgFB4t4aXVlD7Vo89OV43LPIgNNcd5ZZBW5XvBz4RP2XAkKSBXZrs3ODiumguFWGChCTlAVlIkRHGm6HCSrwSG6jIRotZtMvkpvZ7b-AsFstApxK7Ui4owaUZDFdrRkFpQGVz9K8PXbvdiRhn_4m', 'width': 4032}], 'place_id': 'ChIJ8U6p-ZVZwokRm1_nfUTlT7k', 'plus_code': {'compound_code': 'PXPX+XM New York', 'global_code': '87G7PXPX+XM'}, 'rating': 3.7, 'reference': 'ChIJ8U6p-ZVZwokRm1_nfUTlT7k', 'scope': 'GOOGLE', 'types': ['hospital', 'health', 'point_of_interest', 'establishment'], 'user_ratings_total': 3, 'vicinity': '203 W 12th St, New York'}, {'business_status': 'OPERATIONAL', 'geometry': {'location': {'lat': 40.7099667, 'lng': -74.0058521}, 'viewport': {'northeast': {'lat': 40.71126047989272, 'lng': -74.00458887010727}, 'southwest': {'lat': 40.70856082010728, 'lng': -74.00728852989272}}}, 'icon': 'https://maps.gstatic.com/mapfiles/place_api/icons/v1/png_71/hospital-71.png', 'name': 'Presbyterian Downtown Hospital', 'photos': [{'height': 3024, 'html_attributions': ['<a href=\"https://maps.google.com/maps/contrib/117266129966979842820\">Philip</a>'], 'photo_reference': 'ATtYBwJfIF8dxVoSakI0UPRQrl8iNP2xfPhos3kvk5b8ruMmuY-3SJlF8F81QcTz_ZEVQqlS5lrxJ0N9UYNWDoBXrYKSDr92xyigonF8XtX68oJy5uhV_kahkIBbwaXDVumz1tB8e1HHhtXiuNLGTcGKR7mB7PdX_c5BckYB_nW2xbBCdlY-', 'width': 4032}], 'place_id': 'ChIJTVkNbkpbwokRUWriLMAC6k4', 'plus_code': {'compound_code': 'PX5V+XM New York', 'global_code': '87G7PX5V+XM'}, 'rating': 4, 'reference': 'ChIJTVkNbkpbwokRUWriLMAC6k4', 'scope': 'GOOGLE', 'types': ['hospital', 'health', 'point_of_interest', 'establishment'], 'user_ratings_total': 4, 'vicinity': '156 William St, New York'}, {'business_status': 'OPERATIONAL', 'geometry': {'location': {'lat': 40.7127431, 'lng': -74.01337939999999}, 'viewport': {'northeast': {'lat': 40.71413542989272, 'lng': -74.01232492010728}, 'southwest': {'lat': 40.71143577010728, 'lng': -74.01502457989272}}}, 'icon': 'https://maps.gstatic.com/mapfiles/place_api/icons/v1/png_71/hospital-71.png', 'name': 'Hospital Medicine Advisors, LLC', 'place_id': 'ChIJrcQjzBtawokRoPM_ppEde9w', 'plus_code': {'compound_code': 'PX7P+3J New York', 'global_code': '87G7PX7P+3J'}, 'rating': 1, 'reference': 'ChIJrcQjzBtawokRoPM_ppEde9w', 'scope': 'GOOGLE', 'types': ['hospital', 'health', 'point_of_interest', 'establishment'], 'user_ratings_total': 1, 'vicinity': '285 Fulton St, New York'}, {'business_status': 'OPERATIONAL', 'geometry': {'location': {'lat': 40.6956428, 'lng': -73.9840187}, 'viewport': {'northeast': {'lat': 40.69696082989272, 'lng': -73.98276237010727}, 'southwest': {'lat': 40.69426117010728, 'lng': -73.9854620298927}}}, 'icon': 'https://maps.gstatic.com/mapfiles/place_api/icons/v1/png_71/hospital-71.png', 'name': 'Hospital Address 374 Stockholm Street Brooklyn, NY 11237 (Between: Wyckoff & St. Nicholas Avenues) 718-963-7272', 'place_id': 'ChIJnZJdjcBbwokRQw2xrRt4U7g', 'plus_code': {'compound_code': 'M2W8+79 Brooklyn, New York', 'global_code': '87G8M2W8+79'}, 'rating': 5, 'reference': 'ChIJnZJdjcBbwokRQw2xrRt4U7g', 'scope': 'GOOGLE', 'types': ['hospital', 'health', 'point_of_interest', 'establishment'], 'user_ratings_total': 1, 'vicinity': '125 Flatbush Ave Ext, Brooklyn'}, {'business_status': 'OPERATIONAL', 'geometry': {'location': {'lat': 40.7099166, 'lng': -74.004758}, 'viewport': {'northeast': {'lat': 40.71127737989272, 'lng': -74.00331642010727}, 'southwest': {'lat': 40.70857772010728, 'lng': -74.0060160798927}}}, 'icon': 'https://maps.gstatic.com/mapfiles/place_api/icons/v1/png_71/hospital-71.png', 'name': 'NewYork-Presbyterian Lower Manhattan Hospital', 'opening_hours': {}, 'photos': [{'height': 1401, 'html_attributions': ['<a href=\"https://maps.google.com/maps/contrib/112991169689604270108\">A Google User</a>'], 'photo_reference': 'ATtYBwKR570LwYHIMMx0YtUZGmng2pbMlZ2_Cn9HKod981EwzWVrjUCwcYDeGrsXQQ15E_Ey9xlMxkZ2UduA85DLi5I8bxh0gs57BORC3aRaU924MD6htMCAGRwib4ryLjP2B2RLakr8-kJ9jKPR2buTq_-10LKu-M1654US1yENmhqj1d5q', 'width': 2048}], 'place_id': 'ChIJpYoZlyJawokRv65psH6e2pI', 'plus_code': {'compound_code': 'PX5W+X3 New York', 'global_code': '87G7PX5W+X3'}, 'rating': 3.7, 'reference': 'ChIJpYoZlyJawokRv65psH6e2pI', 'scope': 'GOOGLE', 'types': ['hospital', 'health', 'point_of_interest', 'establishment'], 'user_ratings_total': 310, 'vicinity': '170 William St, New York'}, {'business_status': 'OPERATIONAL', 'geometry': {'location': {'lat': 40.71642180000001, 'lng': -74.05001899999999}, 'viewport': {'northeast': {'lat': 40.71755347989272, 'lng': -74.04917302010728}, 'southwest': {'lat': 40.71485382010727, 'lng': -74.05187267989272}}}, 'icon': 'https://maps.gstatic.com/mapfiles/place_api/icons/v1/png_71/hospital-71.png', 'name': \"The Children's Hospital of Hudson County\", 'place_id': 'ChIJzY1pDLdQwokR4FVJLUDn4fM', 'plus_code': {'compound_code': 'PW8X+HX Jersey City, New Jersey', 'global_code': '87G7PW8X+HX'}, 'rating': 4, 'reference': 'ChIJzY1pDLdQwokR4FVJLUDn4fM', 'scope': 'GOOGLE', 'types': ['hospital', 'health', 'point_of_interest', 'establishment'], 'user_ratings_total': 4, 'vicinity': '355 Grand St, Jersey City'}, {'business_status': 'OPERATIONAL', 'geometry': {'location': {'lat': 40.7315539, 'lng': -74.0662254}, 'viewport': {'northeast': {'lat': 40.73301647989273, 'lng': -74.06489577010727}, 'southwest': {'lat': 40.73031682010728, 'lng': -74.06759542989272}}}, 'icon': 'https://maps.gstatic.com/mapfiles/place_api/icons/v1/png_71/hospital-71.png', 'name': 'Columbus Hospital', 'place_id': 'ChIJY-sEZE9XwokRMq1PFbKDy7c', 'plus_code': {'compound_code': 'PWJM+JG Jersey City, New Jersey', 'global_code': '87G7PWJM+JG'}, 'rating': 0, 'reference': 'ChIJY-sEZE9XwokRMq1PFbKDy7c', 'scope': 'GOOGLE', 'types': ['hospital', 'health', 'point_of_interest', 'establishment'], 'user_ratings_total': 0, 'vicinity': '2828 John F. Kennedy Blvd, Jersey City'}, {'business_status': 'OPERATIONAL', 'geometry': {'location': {'lat': 40.7410895, 'lng': -73.98750919999999}, 'viewport': {'northeast': {'lat': 40.74260917989272, 'lng': -73.98601772010728}, 'southwest': {'lat': 40.73990952010728, 'lng': -73.98871737989272}}}, 'icon': 'https://maps.gstatic.com/mapfiles/place_api/icons/v1/png_71/hospital-71.png', 'name': 'Awesome Hospital', 'place_id': 'ChIJwyCitaZZwokRbox9iEp16ak', 'plus_code': {'compound_code': 'P2R6+CX New York', 'global_code': '87G8P2R6+CX'}, 'rating': 0, 'reference': 'ChIJwyCitaZZwokRbox9iEp16ak', 'scope': 'GOOGLE', 'types': ['hospital', 'health', 'point_of_interest', 'establishment'], 'user_ratings_total': 0, 'vicinity': '1 Madison Ave, New York'}, {'business_status': 'OPERATIONAL', 'geometry': {'location': {'lat': 40.7475695, 'lng': -73.9817685}, 'viewport': {'northeast': {'lat': 40.74880362989273, 'lng': -73.98050732010728}, 'southwest': {'lat': 40.74610397010728, 'lng': -73.98320697989273}}}, 'icon': 'https://maps.gstatic.com/mapfiles/place_api/icons/v1/png_71/hospital-71.png', 'name': 'Mount Sinai Beth Israel', 'place_id': 'ChIJPbWQdQdZwokRyyCaMdM2h-Y', 'plus_code': {'compound_code': 'P2X9+27 New York', 'global_code': '87G8P2X9+27'}, 'rating': 0, 'reference': 'ChIJPbWQdQdZwokRyyCaMdM2h-Y', 'scope': 'GOOGLE', 'types': ['hospital', 'health', 'point_of_interest', 'establishment'], 'user_ratings_total': 0, 'vicinity': '55 East 34th Street First Floor, New York'}, {'business_status': 'OPERATIONAL', 'geometry': {'location': {'lat': 40.75283690000001, 'lng': -73.9923274}, 'viewport': {'northeast': {'lat': 40.75408962989273, 'lng': -73.99104887010726}, 'southwest': {'lat': 40.75138997010728, 'lng': -73.99374852989271}}}, 'icon': 'https://maps.gstatic.com/mapfiles/place_api/icons/v1/png_71/hospital-71.png', 'name': 'American Friends of Laniado Hospital', 'place_id': 'ChIJv0gMtq1ZwokRLnTkCAh7YeM', 'plus_code': {'compound_code': 'Q235+43 New York', 'global_code': '87G8Q235+43'}, 'rating': 0, 'reference': 'ChIJv0gMtq1ZwokRLnTkCAh7YeM', 'scope': 'GOOGLE', 'types': ['hospital', 'health', 'point_of_interest', 'establishment'], 'user_ratings_total': 0, 'vicinity': '261 W 35th St Suite 803, New York'}, {'business_status': 'OPERATIONAL', 'geometry': {'location': {'lat': 40.7160753, 'lng': -74.0459686}, 'viewport': {'northeast': {'lat': 40.71747877989272, 'lng': -74.04460702010728}, 'southwest': {'lat': 40.71477912010727, 'lng': -74.04730667989271}}}, 'icon': 'https://maps.gstatic.com/mapfiles/place_api/icons/v1/png_71/hospital-71.png', 'name': 'Jersey City Medical Center Foundation', 'opening_hours': {'open_now': False}, 'place_id': 'ChIJZ4_k67BQwokR3nrCLX7m_6E', 'plus_code': {'compound_code': 'PX83+CJ Jersey City, New Jersey', 'global_code': '87G7PX83+CJ'}, 'rating': 4.7, 'reference': 'ChIJZ4_k67BQwokR3nrCLX7m_6E', 'scope': 'GOOGLE', 'types': ['hospital', 'health', 'point_of_interest', 'establishment'], 'user_ratings_total': 3, 'vicinity': '265 Grand St, Jersey City'}, {'business_status': 'OPERATIONAL', 'geometry': {'location': {'lat': 40.7339547, 'lng': -74.05033399999999}, 'viewport': {'northeast': {'lat': 40.73530357989272, 'lng': -74.04898982010728}, 'southwest': {'lat': 40.73260392010727, 'lng': -74.05168947989273}}}, 'icon': 'https://maps.gstatic.com/mapfiles/place_api/icons/v1/png_71/hospital-71.png', 'name': 'Carepoint Health Christ Hospital', 'photos': [{'height': 2184, 'html_attributions': ['<a href=\"https://maps.google.com/maps/contrib/113613792571290331460\">Hariom Singh</a>'], 'photo_reference': 'ATtYBwKjxCWQOxkiOE9uWLErClK1R90n3HcnxqkpiNXkB6dB6c4xVSJm5dJ2WwQy3iI7Rix8aUE9miDgphl3UXwWtBcLZnskep2cb6P57cyreEY3VTg8sPo9dt6F0FxF2cR1B_EoF34YUgkLSagYFNMzB7KuLzM3E64QSNWXQjHPkovdszgI', 'width': 4608}], 'place_id': 'ChIJa1v7i0hXwokRcmqCkvCyH4k', 'plus_code': {'compound_code': 'PWMX+HV Jersey City, New Jersey', 'global_code': '87G7PWMX+HV'}, 'rating': 5, 'reference': 'ChIJa1v7i0hXwokRcmqCkvCyH4k', 'scope': 'GOOGLE', 'types': ['hospital', 'health', 'point_of_interest', 'establishment'], 'user_ratings_total': 2, 'vicinity': '192 Palisade Ave, Jersey City'}, {'business_status': 'OPERATIONAL', 'geometry': {'location': {'lat': 40.691265, 'lng': -73.9777743}, 'viewport': {'northeast': {'lat': 40.69201142989272, 'lng': -73.97687437010727}, 'southwest': {'lat': 40.68931177010728, 'lng': -73.9795740298927}}}, 'icon': 'https://maps.gstatic.com/mapfiles/place_api/icons/v1/png_71/hospital-71.png', 'name': 'The Brooklyn Hospital Center', 'opening_hours': {'open_now': True}, 'photos': [{'height': 1932, 'html_attributions': ['<a href=\"https://maps.google.com/maps/contrib/100034995420307656338\">A Google User</a>'], 'photo_reference': 'ATtYBwL2670Cv3clns--uax-EDSXZTSM6gZRO_pVtjXE-wGhzgvTmGNyNrfh2pmr7NwnbASU7ht1CPIhCYjfZ3lJmrjAbvircgjadNuMw8_0KidVnKdgZ3ltcmsf25O9zNiGZnoUs-QXQZSubKRg6I31jW4H08qDMXAecUA9BrW48174wUe5', 'width': 2576}], 'place_id': 'ChIJw8KgD7RbwokRj4_cyW8i850', 'plus_code': {'compound_code': 'M2RC+GV New York', 'global_code': '87G8M2RC+GV'}, 'rating': 3, 'reference': 'ChIJw8KgD7RbwokRj4_cyW8i850', 'scope': 'GOOGLE', 'types': ['hospital', 'health', 'point_of_interest', 'establishment'], 'user_ratings_total': 411, 'vicinity': '121 Dekalb Ave, Brooklyn'}, {'business_status': 'OPERATIONAL', 'geometry': {'location': {'lat': 40.7187111, 'lng': -73.99607089999999}, 'viewport': {'northeast': {'lat': 40.72014547989272, 'lng': -73.99467077010726}, 'southwest': {'lat': 40.71744582010727, 'lng': -73.99737042989271}}}, 'icon': 'https://maps.gstatic.com/mapfiles/place_api/icons/v1/png_71/hospital-71.png', 'name': 'Mount Sinai St. Luke’s Hospital Breast Center', 'place_id': 'ChIJaYvbaohZwokRlkjAN_Rq6tI', 'plus_code': {'compound_code': 'P293+FH New York', 'global_code': '87G8P293+FH'}, 'rating': 5, 'reference': 'ChIJaYvbaohZwokRlkjAN_Rq6tI', 'scope': 'GOOGLE', 'types': ['hospital', 'health', 'point_of_interest', 'establishment'], 'user_ratings_total': 1, 'vicinity': '217 Grand St #7, New York'}, {'business_status': 'OPERATIONAL', 'geometry': {'location': {'lat': 40.6842469, 'lng': -73.9795737}, 'viewport': {'northeast': {'lat': 40.68553322989272, 'lng': -73.97826667010727}, 'southwest': {'lat': 40.68283357010728, 'lng': -73.98096632989272}}}, 'icon': 'https://maps.gstatic.com/mapfiles/place_api/icons/v1/png_71/hospital-71.png', 'name': 'Johns Hopkins Hospital', 'place_id': 'ChIJLSOTmK1bwokRowRILpAssPE', 'plus_code': {'compound_code': 'M2MC+M5 Brooklyn, New York', 'global_code': '87G8M2MC+M5'}, 'rating': 0, 'reference': 'ChIJLSOTmK1bwokRowRILpAssPE', 'scope': 'GOOGLE', 'types': ['hospital', 'health', 'point_of_interest', 'establishment'], 'user_ratings_total': 0, 'vicinity': '549 Pacific St, Brooklyn'}, {'business_status': 'OPERATIONAL', 'geometry': {'location': {'lat': 40.7411986, 'lng': -74.0340104}, 'viewport': {'northeast': {'lat': 40.74278047989272, 'lng': -74.03235972010728}, 'southwest': {'lat': 40.74008082010727, 'lng': -74.03505937989272}}}, 'icon': 'https://maps.gstatic.com/mapfiles/place_api/icons/v1/png_71/hospital-71.png', 'name': 'Hoboken University Medical Center', 'opening_hours': {'open_now': True}, 'photos': [{'height': 3024, 'html_attributions': ['<a href=\"https://maps.google.com/maps/contrib/117496364525356215844\">Lisa Hoskins</a>'], 'photo_reference': 'ATtYBwLoDVYEFPZqhytkF4i0HJKDxP1P8In3aS11SWfUKFzfgNEqDd2CniLt-Jfp2Oceahg7s8zxH_DRZXId63W9CpTc0Wofp1xunNcAVemPBHqrjlsZhAFu5F8LD45j8dnFL8kDh-ijP5rjstv1twifBSVS0MYTcsqvojBxiwTpuOJonazj', 'width': 4032}], 'place_id': 'ChIJDwW839dZwokRhDwRH1H6LiQ', 'plus_code': {'compound_code': 'PXR8+F9 Hoboken, New Jersey', 'global_code': '87G7PXR8+F9'}, 'rating': 2.9, 'reference': 'ChIJDwW839dZwokRhDwRH1H6LiQ', 'scope': 'GOOGLE', 'types': ['hospital', 'health', 'point_of_interest', 'establishment'], 'user_ratings_total': 261, 'vicinity': '308 Willow Ave, Hoboken'}], 'status': 'OK'}\n"
     ]
    }
   ],
   "source": [
    "#latlong for one ofthe main jersey city stops\n",
    "lat = 40.71\n",
    "lng = -74.04\n",
    "#print(row)\n",
    "params[\"location\"]= f\"{lat},{lng}\"\n",
    "\n",
    "hosp_resp= requests.get(base_url, params=params).json()\n",
    "try:\n",
    "    #hotel_df.loc[index,\"Hotel Name\"]=hotel_resp[\"results\"][0][\"name\"]\n",
    "    print(hosp_resp)\n",
    "except:\n",
    "    print(\"Issue API with response for city: \"+row['City'], end =\". \")  #change end so it's not a new line\n",
    "    try:\n",
    "        print(\"API status: \"+hotel_resp['status'])  #if the API returned no results, it'll be noted in status\n",
    "    except:\n",
    "        print(\"Unexpected API response.\") "
   ]
  },
  {
   "cell_type": "code",
   "execution_count": 43,
   "metadata": {},
   "outputs": [
    {
     "name": "stdout",
     "output_type": "stream",
     "text": [
      "NYC Health + Hospitals/Gotham Health, Gouverneur\n",
      "227 Madison St, Manhattan\n",
      "40.7129914\n",
      "Mount sinai\n",
      "7 W 8th St, New York\n",
      "40.732716\n",
      "Mount Sinai Beth Israel\n",
      "281 1st Avenue, New York\n",
      "40.7333501\n",
      "Christ Hospital, Jersey City, NJ\n",
      "176 Palisade Ave, Jersey City\n",
      "40.734307\n",
      "Saint Vincent's Catholic Medical Center\n",
      "203 W 12th St, New York\n",
      "40.7374641\n",
      "Presbyterian Downtown Hospital\n",
      "156 William St, New York\n",
      "40.7099667\n",
      "Hospital Medicine Advisors, LLC\n",
      "285 Fulton St, New York\n",
      "40.7127431\n",
      "Hospital Address 374 Stockholm Street Brooklyn, NY 11237 (Between: Wyckoff & St. Nicholas Avenues) 718-963-7272\n",
      "125 Flatbush Ave Ext, Brooklyn\n",
      "40.6956428\n",
      "NewYork-Presbyterian Lower Manhattan Hospital\n",
      "170 William St, New York\n",
      "40.7099166\n",
      "The Children's Hospital of Hudson County\n",
      "355 Grand St, Jersey City\n",
      "40.71642180000001\n",
      "Columbus Hospital\n",
      "2828 John F. Kennedy Blvd, Jersey City\n",
      "40.7315539\n",
      "Awesome Hospital\n",
      "1 Madison Ave, New York\n",
      "40.7410895\n",
      "Mount Sinai Beth Israel\n",
      "55 East 34th Street First Floor, New York\n",
      "40.7475695\n",
      "American Friends of Laniado Hospital\n",
      "261 W 35th St Suite 803, New York\n",
      "40.75283690000001\n",
      "Jersey City Medical Center Foundation\n",
      "265 Grand St, Jersey City\n",
      "40.7160753\n",
      "Carepoint Health Christ Hospital\n",
      "192 Palisade Ave, Jersey City\n",
      "40.7339547\n",
      "The Brooklyn Hospital Center\n",
      "121 Dekalb Ave, Brooklyn\n",
      "40.691265\n",
      "Mount Sinai St. Luke’s Hospital Breast Center\n",
      "217 Grand St #7, New York\n",
      "40.7187111\n",
      "Johns Hopkins Hospital\n",
      "549 Pacific St, Brooklyn\n",
      "40.6842469\n",
      "Hoboken University Medical Center\n",
      "308 Willow Ave, Hoboken\n",
      "40.7411986\n"
     ]
    }
   ],
   "source": [
    "# futzing with results to find needed data\n",
    "# len(hosp_resp[\"results\"])\n",
    "for i in range(len(hosp_resp[\"results\"])):\n",
    "    print(hosp_resp[\"results\"][i][\"name\"])\n",
    "    print(hosp_resp[\"results\"][i][\"vicinity\"])\n",
    "    print(hosp_resp[\"results\"][i][\"geometry\"][\"location\"][\"lat\"])\n",
    "    #print(hosp_resp[\"results\"][i][\"location\"])\n",
    "    #pretty_json = json.dumps(hosp_resp[\"results\"][i], indent=4)\n",
    "    #print(pretty_json)\n",
    "    #break"
   ]
  },
  {
   "cell_type": "code",
   "execution_count": 30,
   "metadata": {},
   "outputs": [],
   "source": []
  },
  {
   "cell_type": "code",
   "execution_count": 38,
   "metadata": {},
   "outputs": [
    {
     "data": {
      "text/html": [
       "<div>\n",
       "<style scoped>\n",
       "    .dataframe tbody tr th:only-of-type {\n",
       "        vertical-align: middle;\n",
       "    }\n",
       "\n",
       "    .dataframe tbody tr th {\n",
       "        vertical-align: top;\n",
       "    }\n",
       "\n",
       "    .dataframe thead th {\n",
       "        text-align: right;\n",
       "    }\n",
       "</style>\n",
       "<table border=\"1\" class=\"dataframe\">\n",
       "  <thead>\n",
       "    <tr style=\"text-align: right;\">\n",
       "      <th></th>\n",
       "      <th>0</th>\n",
       "      <th>1</th>\n",
       "      <th>2</th>\n",
       "    </tr>\n",
       "  </thead>\n",
       "  <tbody>\n",
       "    <tr>\n",
       "      <th>0</th>\n",
       "      <td>NYC Health + Hospitals/Gotham Health, Gouverneur</td>\n",
       "      <td>40.712991</td>\n",
       "      <td>-73.987703</td>\n",
       "    </tr>\n",
       "    <tr>\n",
       "      <th>1</th>\n",
       "      <td>Mount sinai</td>\n",
       "      <td>40.732716</td>\n",
       "      <td>-73.996933</td>\n",
       "    </tr>\n",
       "    <tr>\n",
       "      <th>2</th>\n",
       "      <td>Mount Sinai Beth Israel</td>\n",
       "      <td>40.733350</td>\n",
       "      <td>-73.982565</td>\n",
       "    </tr>\n",
       "    <tr>\n",
       "      <th>3</th>\n",
       "      <td>Christ Hospital, Jersey City, NJ</td>\n",
       "      <td>40.734307</td>\n",
       "      <td>-74.049665</td>\n",
       "    </tr>\n",
       "    <tr>\n",
       "      <th>4</th>\n",
       "      <td>Saint Vincent's Catholic Medical Center</td>\n",
       "      <td>40.737464</td>\n",
       "      <td>-74.000858</td>\n",
       "    </tr>\n",
       "    <tr>\n",
       "      <th>5</th>\n",
       "      <td>Presbyterian Downtown Hospital</td>\n",
       "      <td>40.709967</td>\n",
       "      <td>-74.005852</td>\n",
       "    </tr>\n",
       "    <tr>\n",
       "      <th>6</th>\n",
       "      <td>Hospital Medicine Advisors, LLC</td>\n",
       "      <td>40.712743</td>\n",
       "      <td>-74.013379</td>\n",
       "    </tr>\n",
       "    <tr>\n",
       "      <th>7</th>\n",
       "      <td>Hospital Address 374 Stockholm Street Brooklyn...</td>\n",
       "      <td>40.695643</td>\n",
       "      <td>-73.984019</td>\n",
       "    </tr>\n",
       "    <tr>\n",
       "      <th>8</th>\n",
       "      <td>NewYork-Presbyterian Lower Manhattan Hospital</td>\n",
       "      <td>40.709917</td>\n",
       "      <td>-74.004758</td>\n",
       "    </tr>\n",
       "    <tr>\n",
       "      <th>9</th>\n",
       "      <td>The Children's Hospital of Hudson County</td>\n",
       "      <td>40.716422</td>\n",
       "      <td>-74.050019</td>\n",
       "    </tr>\n",
       "    <tr>\n",
       "      <th>10</th>\n",
       "      <td>Columbus Hospital</td>\n",
       "      <td>40.731554</td>\n",
       "      <td>-74.066225</td>\n",
       "    </tr>\n",
       "    <tr>\n",
       "      <th>11</th>\n",
       "      <td>Awesome Hospital</td>\n",
       "      <td>40.741090</td>\n",
       "      <td>-73.987509</td>\n",
       "    </tr>\n",
       "    <tr>\n",
       "      <th>12</th>\n",
       "      <td>Mount Sinai Beth Israel</td>\n",
       "      <td>40.747569</td>\n",
       "      <td>-73.981769</td>\n",
       "    </tr>\n",
       "    <tr>\n",
       "      <th>13</th>\n",
       "      <td>American Friends of Laniado Hospital</td>\n",
       "      <td>40.752837</td>\n",
       "      <td>-73.992327</td>\n",
       "    </tr>\n",
       "    <tr>\n",
       "      <th>14</th>\n",
       "      <td>Jersey City Medical Center Foundation</td>\n",
       "      <td>40.716075</td>\n",
       "      <td>-74.045969</td>\n",
       "    </tr>\n",
       "    <tr>\n",
       "      <th>15</th>\n",
       "      <td>Carepoint Health Christ Hospital</td>\n",
       "      <td>40.733955</td>\n",
       "      <td>-74.050334</td>\n",
       "    </tr>\n",
       "    <tr>\n",
       "      <th>16</th>\n",
       "      <td>The Brooklyn Hospital Center</td>\n",
       "      <td>40.691265</td>\n",
       "      <td>-73.977774</td>\n",
       "    </tr>\n",
       "    <tr>\n",
       "      <th>17</th>\n",
       "      <td>Mount Sinai St. Luke’s Hospital Breast Center</td>\n",
       "      <td>40.718711</td>\n",
       "      <td>-73.996071</td>\n",
       "    </tr>\n",
       "    <tr>\n",
       "      <th>18</th>\n",
       "      <td>Johns Hopkins Hospital</td>\n",
       "      <td>40.684247</td>\n",
       "      <td>-73.979574</td>\n",
       "    </tr>\n",
       "    <tr>\n",
       "      <th>19</th>\n",
       "      <td>Hoboken University Medical Center</td>\n",
       "      <td>40.741199</td>\n",
       "      <td>-74.034010</td>\n",
       "    </tr>\n",
       "  </tbody>\n",
       "</table>\n",
       "</div>"
      ],
      "text/plain": [
       "                                                    0          1          2\n",
       "0    NYC Health + Hospitals/Gotham Health, Gouverneur  40.712991 -73.987703\n",
       "1                                         Mount sinai  40.732716 -73.996933\n",
       "2                             Mount Sinai Beth Israel  40.733350 -73.982565\n",
       "3                    Christ Hospital, Jersey City, NJ  40.734307 -74.049665\n",
       "4             Saint Vincent's Catholic Medical Center  40.737464 -74.000858\n",
       "5                      Presbyterian Downtown Hospital  40.709967 -74.005852\n",
       "6                     Hospital Medicine Advisors, LLC  40.712743 -74.013379\n",
       "7   Hospital Address 374 Stockholm Street Brooklyn...  40.695643 -73.984019\n",
       "8       NewYork-Presbyterian Lower Manhattan Hospital  40.709917 -74.004758\n",
       "9            The Children's Hospital of Hudson County  40.716422 -74.050019\n",
       "10                                  Columbus Hospital  40.731554 -74.066225\n",
       "11                                   Awesome Hospital  40.741090 -73.987509\n",
       "12                            Mount Sinai Beth Israel  40.747569 -73.981769\n",
       "13               American Friends of Laniado Hospital  40.752837 -73.992327\n",
       "14              Jersey City Medical Center Foundation  40.716075 -74.045969\n",
       "15                   Carepoint Health Christ Hospital  40.733955 -74.050334\n",
       "16                       The Brooklyn Hospital Center  40.691265 -73.977774\n",
       "17      Mount Sinai St. Luke’s Hospital Breast Center  40.718711 -73.996071\n",
       "18                             Johns Hopkins Hospital  40.684247 -73.979574\n",
       "19                  Hoboken University Medical Center  40.741199 -74.034010"
      ]
     },
     "execution_count": 38,
     "metadata": {},
     "output_type": "execute_result"
    }
   ],
   "source": [
    "hospital_df = pd.DataFrame(\n",
    "[result[\"name\"], result[\"geometry\"][\"location\"][\"lat\"], result[\"geometry\"][\"location\"][\"lng\"]] for result in hosp_resp[\"results\"]\n",
    ")\n",
    "\n",
    "hospital_df"
   ]
  },
  {
   "cell_type": "code",
   "execution_count": 39,
   "metadata": {},
   "outputs": [
    {
     "data": {
      "text/html": [
       "<div>\n",
       "<style scoped>\n",
       "    .dataframe tbody tr th:only-of-type {\n",
       "        vertical-align: middle;\n",
       "    }\n",
       "\n",
       "    .dataframe tbody tr th {\n",
       "        vertical-align: top;\n",
       "    }\n",
       "\n",
       "    .dataframe thead th {\n",
       "        text-align: right;\n",
       "    }\n",
       "</style>\n",
       "<table border=\"1\" class=\"dataframe\">\n",
       "  <thead>\n",
       "    <tr style=\"text-align: right;\">\n",
       "      <th></th>\n",
       "      <th>hospital_name</th>\n",
       "      <th>lat</th>\n",
       "      <th>long</th>\n",
       "    </tr>\n",
       "  </thead>\n",
       "  <tbody>\n",
       "    <tr>\n",
       "      <th>0</th>\n",
       "      <td>NYC Health + Hospitals/Gotham Health, Gouverneur</td>\n",
       "      <td>40.712991</td>\n",
       "      <td>-73.987703</td>\n",
       "    </tr>\n",
       "    <tr>\n",
       "      <th>1</th>\n",
       "      <td>Mount sinai</td>\n",
       "      <td>40.732716</td>\n",
       "      <td>-73.996933</td>\n",
       "    </tr>\n",
       "    <tr>\n",
       "      <th>2</th>\n",
       "      <td>Mount Sinai Beth Israel</td>\n",
       "      <td>40.733350</td>\n",
       "      <td>-73.982565</td>\n",
       "    </tr>\n",
       "    <tr>\n",
       "      <th>3</th>\n",
       "      <td>Christ Hospital, Jersey City, NJ</td>\n",
       "      <td>40.734307</td>\n",
       "      <td>-74.049665</td>\n",
       "    </tr>\n",
       "    <tr>\n",
       "      <th>4</th>\n",
       "      <td>Saint Vincent's Catholic Medical Center</td>\n",
       "      <td>40.737464</td>\n",
       "      <td>-74.000858</td>\n",
       "    </tr>\n",
       "    <tr>\n",
       "      <th>5</th>\n",
       "      <td>Presbyterian Downtown Hospital</td>\n",
       "      <td>40.709967</td>\n",
       "      <td>-74.005852</td>\n",
       "    </tr>\n",
       "    <tr>\n",
       "      <th>6</th>\n",
       "      <td>Hospital Medicine Advisors, LLC</td>\n",
       "      <td>40.712743</td>\n",
       "      <td>-74.013379</td>\n",
       "    </tr>\n",
       "    <tr>\n",
       "      <th>7</th>\n",
       "      <td>Hospital Address 374 Stockholm Street Brooklyn...</td>\n",
       "      <td>40.695643</td>\n",
       "      <td>-73.984019</td>\n",
       "    </tr>\n",
       "    <tr>\n",
       "      <th>8</th>\n",
       "      <td>NewYork-Presbyterian Lower Manhattan Hospital</td>\n",
       "      <td>40.709917</td>\n",
       "      <td>-74.004758</td>\n",
       "    </tr>\n",
       "    <tr>\n",
       "      <th>9</th>\n",
       "      <td>The Children's Hospital of Hudson County</td>\n",
       "      <td>40.716422</td>\n",
       "      <td>-74.050019</td>\n",
       "    </tr>\n",
       "    <tr>\n",
       "      <th>10</th>\n",
       "      <td>Columbus Hospital</td>\n",
       "      <td>40.731554</td>\n",
       "      <td>-74.066225</td>\n",
       "    </tr>\n",
       "    <tr>\n",
       "      <th>11</th>\n",
       "      <td>Awesome Hospital</td>\n",
       "      <td>40.741090</td>\n",
       "      <td>-73.987509</td>\n",
       "    </tr>\n",
       "    <tr>\n",
       "      <th>12</th>\n",
       "      <td>Mount Sinai Beth Israel</td>\n",
       "      <td>40.747569</td>\n",
       "      <td>-73.981769</td>\n",
       "    </tr>\n",
       "    <tr>\n",
       "      <th>13</th>\n",
       "      <td>American Friends of Laniado Hospital</td>\n",
       "      <td>40.752837</td>\n",
       "      <td>-73.992327</td>\n",
       "    </tr>\n",
       "    <tr>\n",
       "      <th>14</th>\n",
       "      <td>Jersey City Medical Center Foundation</td>\n",
       "      <td>40.716075</td>\n",
       "      <td>-74.045969</td>\n",
       "    </tr>\n",
       "    <tr>\n",
       "      <th>15</th>\n",
       "      <td>Carepoint Health Christ Hospital</td>\n",
       "      <td>40.733955</td>\n",
       "      <td>-74.050334</td>\n",
       "    </tr>\n",
       "    <tr>\n",
       "      <th>16</th>\n",
       "      <td>The Brooklyn Hospital Center</td>\n",
       "      <td>40.691265</td>\n",
       "      <td>-73.977774</td>\n",
       "    </tr>\n",
       "    <tr>\n",
       "      <th>17</th>\n",
       "      <td>Mount Sinai St. Luke’s Hospital Breast Center</td>\n",
       "      <td>40.718711</td>\n",
       "      <td>-73.996071</td>\n",
       "    </tr>\n",
       "    <tr>\n",
       "      <th>18</th>\n",
       "      <td>Johns Hopkins Hospital</td>\n",
       "      <td>40.684247</td>\n",
       "      <td>-73.979574</td>\n",
       "    </tr>\n",
       "    <tr>\n",
       "      <th>19</th>\n",
       "      <td>Hoboken University Medical Center</td>\n",
       "      <td>40.741199</td>\n",
       "      <td>-74.034010</td>\n",
       "    </tr>\n",
       "  </tbody>\n",
       "</table>\n",
       "</div>"
      ],
      "text/plain": [
       "                                        hospital_name        lat       long\n",
       "0    NYC Health + Hospitals/Gotham Health, Gouverneur  40.712991 -73.987703\n",
       "1                                         Mount sinai  40.732716 -73.996933\n",
       "2                             Mount Sinai Beth Israel  40.733350 -73.982565\n",
       "3                    Christ Hospital, Jersey City, NJ  40.734307 -74.049665\n",
       "4             Saint Vincent's Catholic Medical Center  40.737464 -74.000858\n",
       "5                      Presbyterian Downtown Hospital  40.709967 -74.005852\n",
       "6                     Hospital Medicine Advisors, LLC  40.712743 -74.013379\n",
       "7   Hospital Address 374 Stockholm Street Brooklyn...  40.695643 -73.984019\n",
       "8       NewYork-Presbyterian Lower Manhattan Hospital  40.709917 -74.004758\n",
       "9            The Children's Hospital of Hudson County  40.716422 -74.050019\n",
       "10                                  Columbus Hospital  40.731554 -74.066225\n",
       "11                                   Awesome Hospital  40.741090 -73.987509\n",
       "12                            Mount Sinai Beth Israel  40.747569 -73.981769\n",
       "13               American Friends of Laniado Hospital  40.752837 -73.992327\n",
       "14              Jersey City Medical Center Foundation  40.716075 -74.045969\n",
       "15                   Carepoint Health Christ Hospital  40.733955 -74.050334\n",
       "16                       The Brooklyn Hospital Center  40.691265 -73.977774\n",
       "17      Mount Sinai St. Luke’s Hospital Breast Center  40.718711 -73.996071\n",
       "18                             Johns Hopkins Hospital  40.684247 -73.979574\n",
       "19                  Hoboken University Medical Center  40.741199 -74.034010"
      ]
     },
     "execution_count": 39,
     "metadata": {},
     "output_type": "execute_result"
    }
   ],
   "source": [
    "hospital_df.rename(columns = {0:\"hospital_name\",1:\"lat\",2:\"long\"}, inplace=True)\n",
    "hospital_df"
   ]
  },
  {
   "cell_type": "code",
   "execution_count": 40,
   "metadata": {},
   "outputs": [],
   "source": [
    "hospital_df.to_csv('Resources/nychospitals.csv', index=False)"
   ]
  },
  {
   "cell_type": "code",
   "execution_count": 41,
   "metadata": {},
   "outputs": [
    {
     "ename": "NameError",
     "evalue": "name 'allyears_df' is not defined",
     "output_type": "error",
     "traceback": [
      "\u001b[1;31m---------------------------------------------------------------------------\u001b[0m",
      "\u001b[1;31mNameError\u001b[0m                                 Traceback (most recent call last)",
      "\u001b[1;32m<ipython-input-41-1d701858853a>\u001b[0m in \u001b[0;36m<module>\u001b[1;34m\u001b[0m\n\u001b[1;32m----> 1\u001b[1;33m \u001b[0mallyears_df\u001b[0m\u001b[1;33m\u001b[0m\u001b[1;33m\u001b[0m\u001b[0m\n\u001b[0m",
      "\u001b[1;31mNameError\u001b[0m: name 'allyears_df' is not defined"
     ]
    }
   ],
   "source": [
    "['starttime','start station id',\n",
    "       'start station name', 'start station latitude',\n",
    "       'start station longitude', 'end station id', 'end station name',\n",
    "       'end station latitude', 'end station longitude', 'usertype']"
   ]
  },
  {
   "cell_type": "code",
   "execution_count": null,
   "metadata": {},
   "outputs": [],
   "source": []
  }
 ],
 "metadata": {
  "kernelspec": {
   "display_name": "Python 3",
   "language": "python",
   "name": "python3"
  },
  "language_info": {
   "codemirror_mode": {
    "name": "ipython",
    "version": 3
   },
   "file_extension": ".py",
   "mimetype": "text/x-python",
   "name": "python",
   "nbconvert_exporter": "python",
   "pygments_lexer": "ipython3",
   "version": "3.6.10"
  }
 },
 "nbformat": 4,
 "nbformat_minor": 4
}
